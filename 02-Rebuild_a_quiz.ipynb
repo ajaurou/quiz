{
 "cells": [
  {
   "cell_type": "markdown",
   "metadata": {},
   "source": [
    "# Build a quiz - Part 2"
   ]
  },
  {
   "cell_type": "markdown",
   "metadata": {},
   "source": [
    "Below is the code we wrote yesterday, that asks three questions to the user and allows up to 3 wrong answers :"
   ]
  },
  {
   "cell_type": "code",
   "execution_count": null,
   "metadata": {},
   "outputs": [],
   "source": [
    "nb_de_chances = 3\n",
    "\n",
    "print(\"Voici notre quiz, tu as trois chances !\")\n",
    "\n",
    "if nb_de_chances > 0:\n",
    "    question1= input(\"Combien de fois la France a gagné la coupe du monde ? \")\n",
    "    while question1 != \"2\":\n",
    "        nb_de_chances -= 1\n",
    "        print(\"Dommage ! Il te reste {} chances\".format(nb_de_chances))\n",
    "        if nb_de_chances == 0:\n",
    "            print(\"Oh non ! Tu as perdu le jeu...\")\n",
    "            break\n",
    "        question1 = input(\"Combien de fois la France a gagné la coupe du monde ? \")\n",
    "\n",
    "if nb_de_chances > 0:\n",
    "    question2 = input(\"Quand a été fondé Apple ? \")\n",
    "    while question2 != \"1976\":\n",
    "        nb_de_chances -=1\n",
    "        print(\"Dommage ! Il te reste {} chances\".format(nb_de_chances))\n",
    "        if nb_de_chances == 0:\n",
    "            print(\"Oh non ! Tu as perdu le jeu...\")\n",
    "            break\n",
    "        question2 = input(\"Quand a été fondé Apple ? \")\n",
    "\n",
    "\n",
    "if nb_de_chances > 0:\n",
    "    question3 = input(\"Qui a fondé SpaceX ? \")\n",
    "    question3 = question3.lower()\n",
    "    while question3 != \"elon musk\":\n",
    "        nb_de_chances -=1\n",
    "        print(\"Dommage ! Il te reste {} chances\".format(nb_de_chances))\n",
    "        if nb_de_chances == 0:\n",
    "            print(\"Oh non ! Tu as perdu le jeu...\")\n",
    "            break\n",
    "        question3 = input(\"Qui a fondé SpaceX ? \")\n",
    "        question3 = question3.lower()\n",
    "\n",
    "if nb_de_chances > 0:\n",
    "    print(\"Bravo ! Tu as gagné le quiz !\")\n"
   ]
  },
  {
   "cell_type": "markdown",
   "metadata": {},
   "source": [
    "Let's refactor our quiz now that we know how to be dry.\n",
    "\n",
    "SPECs: \n",
    "\n",
    "* Your code should be DRY \n",
    "* You should use functions "
   ]
  },
  {
   "cell_type": "code",
   "execution_count": 13,
   "metadata": {},
   "outputs": [
    {
     "name": "stdout",
     "output_type": "stream",
     "text": [
      "Welcome to our quiz !\n",
      "              You have 3 chances\n",
      "Question 1\n",
      "Your answer : 2\n",
      "Wrong, you have 2 chances left\n",
      "Your answer : 1\n",
      "2\n",
      "Good job !\n",
      "Question 2\n",
      "Your answer : 2\n",
      "2\n",
      "Good job !\n",
      "Question 3\n",
      "Your answer : 2\n",
      "Wrong, you have 1 chances left\n",
      "Your answer : 2\n",
      "0\n",
      "Oh no you have lost the quiz\n"
     ]
    }
   ],
   "source": [
    "class Quiz():\n",
    "\n",
    "    def __init__(self, questions, answers):\n",
    "        self.questions = questions\n",
    "        self.answers = answers\n",
    "        self.chances = 3\n",
    "\n",
    "    def run(self):\n",
    "        print(\"Welcome to our quiz !\\n\\\n",
    "              You have {} chances\".format(self.chances))\n",
    "        \n",
    "        i_question = 0\n",
    "\n",
    "        while self.chances > 0 and i_question < len(self.questions):\n",
    "\n",
    "            print(\"Question {}\".format(i_question + 1))\n",
    "\n",
    "            self.run_question(question=self.questions[i_question],\n",
    "                              proposition=self.ask(self.questions[i_question]),\n",
    "                              answer=self.answers[i_question],\n",
    "                              chances=self.chances)\n",
    "            \n",
    "            if self.chances == 0:\n",
    "                break\n",
    "\n",
    "            else :\n",
    "                print(\"Good job !\")\n",
    "                i_question += 1\n",
    "\n",
    "        if self.chances == 0:\n",
    "            print('Oh no you have lost the quiz')\n",
    "            \n",
    "        else :\n",
    "            print(\"Bravo Champ ! You won the quiz\")\n",
    "\n",
    "\n",
    "    def normalized_string(self, string):\n",
    "        return string.lower().replace(' ','')\n",
    "    \n",
    "    def ask(self, question):\n",
    "        proposition = input(question)\n",
    "        print(\"Your answer : {}\".format(proposition))\n",
    "        return self.normalized_string(proposition)\n",
    "\n",
    "\n",
    "    def run_question(self, question, proposition, answer, chances):\n",
    "\n",
    "        while proposition != answer:\n",
    "            self.chances -= 1\n",
    "            chances = self.chances\n",
    "\n",
    "            if self.chances == 0:\n",
    "                break\n",
    "            \n",
    "            print(\"Wrong, you have {} chances left\".format(self.chances))\n",
    "            proposition = self.ask(question)\n",
    "        \n",
    "         \n",
    "questions = ['question1', 'question2', 'question3']\n",
    "answers = ['1','2','3']\n",
    "\n",
    "quiz = Quiz(questions, answers)\n",
    "quiz.run()\n",
    "\n",
    "            \n",
    "\n",
    "    \n"
   ]
  },
  {
   "cell_type": "code",
   "execution_count": null,
   "metadata": {},
   "outputs": [],
   "source": []
  }
 ],
 "metadata": {
  "kernelspec": {
   "display_name": "base",
   "language": "python",
   "name": "python3"
  },
  "language_info": {
   "codemirror_mode": {
    "name": "ipython",
    "version": 3
   },
   "file_extension": ".py",
   "mimetype": "text/x-python",
   "name": "python",
   "nbconvert_exporter": "python",
   "pygments_lexer": "ipython3",
   "version": "3.9.12"
  },
  "orig_nbformat": 2
 },
 "nbformat": 4,
 "nbformat_minor": 2
}
